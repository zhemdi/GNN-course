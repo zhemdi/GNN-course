{
 "cells": [
  {
   "cell_type": "code",
   "execution_count": 1,
   "metadata": {},
   "outputs": [],
   "source": [
    "import numpy as np\n",
    "import matplotlib.pyplot as plt"
   ]
  },
  {
   "cell_type": "code",
   "execution_count": 2,
   "metadata": {},
   "outputs": [],
   "source": [
    "def add_third_dimension_and_repeat(point_cloud, n_repeats):\n",
    "    \"\"\"Add a third dimension to the point cloud and repeat it n_repeats times.\"\"\"\n",
    "    z = 3*np.arange(n_repeats)\n",
    "    z = np.repeat(z, point_cloud.shape[0])\n",
    "    z = z[:,None]\n",
    "    point_cloud = np.tile(point_cloud, (n_repeats, 1))\n",
    "    point_cloud = np.concatenate((point_cloud, z), axis=1)\n",
    "    return point_cloud\n",
    "\n",
    "\n",
    "def generate_rotations_3d(point_cloud, alpha, beta, gamma):\n",
    "    \"\"\"Generate rotated point clouds.\"\"\"\n",
    "    # Rotation matrices\n",
    "    R_alpha = np.array([[np.cos(alpha), -np.sin(alpha), 0],\n",
    "                        [np.sin(alpha), np.cos(alpha), 0],\n",
    "                        [0, 0, 1]])\n",
    "    R_beta = np.array([[1, 0, 0],\n",
    "                       [0, np.cos(beta), -np.sin(beta)],\n",
    "                       [0, np.sin(beta), np.cos(beta)]])\n",
    "    R_gamma = np.array([[np.cos(gamma), 0, np.sin(gamma)],\n",
    "                        [0, 1, 0],\n",
    "                        [-np.sin(gamma), 0, np.cos(gamma)]])\n",
    "    # Rotate point cloud\n",
    "    return np.dot(np.dot(np.dot(point_cloud, R_alpha), R_beta), R_gamma)"
   ]
  },
  {
   "cell_type": "code",
   "execution_count": 3,
   "metadata": {},
   "outputs": [],
   "source": [
    "A = np.array(\n",
    "                [\n",
    "                    [0,0],\n",
    "                    [1/4, 1],\n",
    "                    [1/2,2],\n",
    "                    [3/4, 1],\n",
    "                    [1,0]\n",
    "                ]\n",
    "\n",
    ")"
   ]
  },
  {
   "cell_type": "code",
   "execution_count": 4,
   "metadata": {},
   "outputs": [],
   "source": [
    "B = np.array(\n",
    "                [\n",
    "                    [0,0],\n",
    "                    [1,1/2],\n",
    "                    [0, 1],\n",
    "                    [1, 3/2],\n",
    "                    [0, 2]\n",
    "                ]\n",
    "\n",
    ")"
   ]
  },
  {
   "cell_type": "code",
   "execution_count": null,
   "metadata": {},
   "outputs": [],
   "source": []
  },
  {
   "cell_type": "code",
   "execution_count": 5,
   "metadata": {},
   "outputs": [],
   "source": [
    "C = np.array(\n",
    "                [\n",
    "                    [1,0],\n",
    "                    [0,0],\n",
    "                    [0,1],\n",
    "                    [0,2],\n",
    "                    [1,2]\n",
    "                ]\n",
    "\n",
    ")"
   ]
  },
  {
   "cell_type": "code",
   "execution_count": null,
   "metadata": {},
   "outputs": [],
   "source": []
  },
  {
   "cell_type": "code",
   "execution_count": 6,
   "metadata": {},
   "outputs": [],
   "source": [
    "D = np.array(\n",
    "                [\n",
    "                    [0,0],\n",
    "                    [2/3,0],\n",
    "                    [1,1],\n",
    "                    [2/3,2],\n",
    "                    [0,2]\n",
    "                ]\n",
    "\n",
    ")"
   ]
  },
  {
   "cell_type": "code",
   "execution_count": 7,
   "metadata": {},
   "outputs": [],
   "source": [
    "E = np.array(\n",
    "                [\n",
    "                    [1,0],\n",
    "                    [0,0],\n",
    "                    [1,1],\n",
    "                    [0,2],\n",
    "                    [1,2],\n",
    "                    \n",
    "                ]\n",
    "\n",
    ")"
   ]
  },
  {
   "cell_type": "code",
   "execution_count": 8,
   "metadata": {},
   "outputs": [],
   "source": [
    "F = np.array(\n",
    "                [\n",
    "                    [0,0],\n",
    "                    [0,1],\n",
    "                    [0,2],\n",
    "                    [1,2],\n",
    "                    [1,1]\n",
    "                ]\n",
    "\n",
    ")"
   ]
  },
  {
   "cell_type": "code",
   "execution_count": 9,
   "metadata": {},
   "outputs": [],
   "source": [
    "a_indices = np.array([0,1,2,3,4,3,1])"
   ]
  },
  {
   "cell_type": "code",
   "execution_count": 10,
   "metadata": {},
   "outputs": [],
   "source": [
    "b_indices = np.array([0,1,2,3,4,2,0])"
   ]
  },
  {
   "cell_type": "code",
   "execution_count": 11,
   "metadata": {},
   "outputs": [],
   "source": [
    "c_indices = np.array([0,1,2,3,4])"
   ]
  },
  {
   "cell_type": "code",
   "execution_count": 12,
   "metadata": {},
   "outputs": [],
   "source": [
    "d_indices = np.array([0,1,2,3,4,0])"
   ]
  },
  {
   "cell_type": "code",
   "execution_count": 13,
   "metadata": {},
   "outputs": [],
   "source": [
    "e_indices = np.array([0,1,2,3,4,])"
   ]
  },
  {
   "cell_type": "code",
   "execution_count": 14,
   "metadata": {},
   "outputs": [],
   "source": [
    "f_indices = np.array([0,1,2,3,2,1,4])"
   ]
  },
  {
   "cell_type": "code",
   "execution_count": 15,
   "metadata": {},
   "outputs": [],
   "source": [
    "colors = ['blue', 'black', 'green', 'purple', 'orange']#, 'brown']"
   ]
  },
  {
   "cell_type": "code",
   "execution_count": 16,
   "metadata": {},
   "outputs": [
    {
     "data": {
      "text/plain": [
       "<matplotlib.collections.PathCollection at 0x1182645f0>"
      ]
     },
     "execution_count": 16,
     "metadata": {},
     "output_type": "execute_result"
    },
    {
     "data": {
      "image/png": "[encoded data removed]",
      "text/plain": [
       "<Figure size 640x480 with 1 Axes>"
      ]
     },
     "metadata": {},
     "output_type": "display_data"
    }
   ],
   "source": [
    "plt.plot(A[a_indices,0], A[a_indices,1], 'r')\n",
    "plt.scatter(A[:,0], A[:,1], c = colors, marker='*', s=100)"
   ]
  },
  {
   "cell_type": "code",
   "execution_count": 17,
   "metadata": {},
   "outputs": [
    {
     "data": {
      "text/plain": [
       "<matplotlib.collections.PathCollection at 0x1182f6c60>"
      ]
     },
     "execution_count": 17,
     "metadata": {},
     "output_type": "execute_result"
    },
    {
     "data": {
      "image/png": "[encoded data removed]",
      "text/plain": [
       "<Figure size 640x480 with 1 Axes>"
      ]
     },
     "metadata": {},
     "output_type": "display_data"
    }
   ],
   "source": [
    "plt.plot(B[b_indices,0], B[b_indices,1], 'r')\n",
    "plt.scatter(B[:,0], B[:,1], c = colors, marker='*', s=100)"
   ]
  },
  {
   "cell_type": "code",
   "execution_count": 18,
   "metadata": {},
   "outputs": [
    {
     "data": {
      "text/plain": [
       "<matplotlib.collections.PathCollection at 0x1183d1c70>"
      ]
     },
     "execution_count": 18,
     "metadata": {},
     "output_type": "execute_result"
    },
    {
     "data": {
      "image/png": "[encoded data removed]",
      "text/plain": [
       "<Figure size 640x480 with 1 Axes>"
      ]
     },
     "metadata": {},
     "output_type": "display_data"
    }
   ],
   "source": [
    "plt.plot(C[c_indices,0], C[c_indices,1], 'r')\n",
    "plt.scatter(C[:,0], C[:,1], c = colors, marker='*', s=100)"
   ]
  },
  {
   "cell_type": "code",
   "execution_count": 19,
   "metadata": {},
   "outputs": [
    {
     "data": {
      "text/plain": [
       "<matplotlib.collections.PathCollection at 0x11843f0e0>"
      ]
     },
     "execution_count": 19,
     "metadata": {},
     "output_type": "execute_result"
    },
    {
     "data": {
      "image/png": "[encoded data removed]",
      "text/plain": [
       "<Figure size 640x480 with 1 Axes>"
      ]
     },
     "metadata": {},
     "output_type": "display_data"
    }
   ],
   "source": [
    "plt.plot(D[d_indices,0], D[d_indices,1], 'r')\n",
    "plt.scatter(D[:,0], D[:,1], c = colors, marker='*', s=100)"
   ]
  },
  {
   "cell_type": "code",
   "execution_count": 20,
   "metadata": {},
   "outputs": [
    {
     "data": {
      "text/plain": [
       "<matplotlib.collections.PathCollection at 0x1184cc9e0>"
      ]
     },
     "execution_count": 20,
     "metadata": {},
     "output_type": "execute_result"
    },
    {
     "data": {
      "image/png": "[encoded data removed]",
      "text/plain": [
       "<Figure size 640x480 with 1 Axes>"
      ]
     },
     "metadata": {},
     "output_type": "display_data"
    }
   ],
   "source": [
    "plt.plot(E[e_indices,0], E[e_indices,1], 'r')\n",
    "plt.scatter(E[:,0], E[:,1], c = colors, marker='*', s=100)"
   ]
  },
  {
   "cell_type": "code",
   "execution_count": 21,
   "metadata": {},
   "outputs": [
    {
     "data": {
      "text/plain": [
       "<matplotlib.collections.PathCollection at 0x118526300>"
      ]
     },
     "execution_count": 21,
     "metadata": {},
     "output_type": "execute_result"
    },
    {
     "data": {
      "image/png": "[encoded data removed]",
      "text/plain": [
       "<Figure size 640x480 with 1 Axes>"
      ]
     },
     "metadata": {},
     "output_type": "display_data"
    }
   ],
   "source": [
    "plt.plot(F[f_indices,0], F[f_indices,1], 'r')\n",
    "plt.scatter(F[:,0], F[:,1], c = colors, marker='*', s=100)"
   ]
  },
  {
   "cell_type": "code",
   "execution_count": 22,
   "metadata": {},
   "outputs": [],
   "source": [
    "repeated_A = add_third_dimension_and_repeat(A, 2)"
   ]
  },
  {
   "cell_type": "code",
   "execution_count": 23,
   "metadata": {},
   "outputs": [
    {
     "data": {
      "text/plain": [
       "array([[0.  , 0.  , 0.  ],\n",
       "       [0.25, 1.  , 0.  ],\n",
       "       [0.5 , 2.  , 0.  ],\n",
       "       [0.75, 1.  , 0.  ],\n",
       "       [1.  , 0.  , 0.  ],\n",
       "       [0.  , 0.  , 3.  ],\n",
       "       [0.25, 1.  , 3.  ],\n",
       "       [0.5 , 2.  , 3.  ],\n",
       "       [0.75, 1.  , 3.  ],\n",
       "       [1.  , 0.  , 3.  ]])"
      ]
     },
     "execution_count": 23,
     "metadata": {},
     "output_type": "execute_result"
    }
   ],
   "source": [
    "repeated_A"
   ]
  },
  {
   "cell_type": "code",
   "execution_count": 24,
   "metadata": {},
   "outputs": [],
   "source": [
    "dataset_size = 6000"
   ]
  },
  {
   "cell_type": "code",
   "execution_count": 25,
   "metadata": {},
   "outputs": [],
   "source": [
    "dataset_np = []"
   ]
  },
  {
   "cell_type": "code",
   "execution_count": 26,
   "metadata": {},
   "outputs": [],
   "source": [
    "features = np.eye(5)"
   ]
  },
  {
   "cell_type": "code",
   "execution_count": 27,
   "metadata": {},
   "outputs": [],
   "source": [
    "for i in range(dataset_size):\n",
    "    class_label = i//1000\n",
    "    repeats_numbers = np.random.randint(1, 5)\n",
    "    random_shift = np.random.rand(3)\n",
    "    features_rep = np.tile(features, (repeats_numbers, 1))\n",
    "    if class_label == 0:\n",
    "        repeated_A = add_third_dimension_and_repeat(A, repeats_numbers)\n",
    "        rotated_A = generate_rotations_3d(repeated_A, np.random.uniform(0, 2*np.pi), np.random.uniform(0, np.pi), np.random.uniform(0, 2*np.pi))\n",
    "        rotated_A = rotated_A + random_shift[None, :]\n",
    "        # all_feat = np.concatenate((rotated_A, features_rep), axis=1)\n",
    "        dataset_np.append((rotated_A, features_rep, class_label))\n",
    "        \n",
    "    elif class_label == 1:\n",
    "        repeated_B = add_third_dimension_and_repeat(B, repeats_numbers)\n",
    "        rotated_B = generate_rotations_3d(repeated_B, np.random.uniform(0, 2*np.pi), np.random.uniform(0, np.pi), np.random.uniform(0, 2*np.pi))\n",
    "        rotated_B = rotated_B + random_shift[None, :]\n",
    "        # all_feat = np.concatenate((rotated_B, features_rep), axis=1)\n",
    "        dataset_np.append((rotated_B, features_rep, class_label))\n",
    "    elif class_label == 2:\n",
    "        repeated_C = add_third_dimension_and_repeat(C, repeats_numbers)\n",
    "        rotated_C = generate_rotations_3d(repeated_C, np.random.uniform(0, 2*np.pi), np.random.uniform(0, np.pi), np.random.uniform(0, 2*np.pi))\n",
    "        rotated_C = rotated_C + random_shift[None, :]\n",
    "        # all_feat = np.concatenate((rotated_C, features_rep), axis=1)\n",
    "        dataset_np.append((rotated_C, features_rep, class_label))\n",
    "    elif class_label == 3:\n",
    "        repeated_D = add_third_dimension_and_repeat(D, repeats_numbers)\n",
    "        rotated_D = generate_rotations_3d(repeated_D, np.random.uniform(0, 2*np.pi), np.random.uniform(0, np.pi), np.random.uniform(0, 2*np.pi))\n",
    "        rotated_D = rotated_D + random_shift[None, :]\n",
    "        # all_feat = np.concatenate((rotated_D, features_rep), axis=1)\n",
    "        dataset_np.append((rotated_D, features_rep, class_label))\n",
    "    elif class_label == 4:\n",
    "        repeated_E = add_third_dimension_and_repeat(E, repeats_numbers)\n",
    "        rotated_E = generate_rotations_3d(repeated_E, np.random.uniform(0, 2*np.pi), np.random.uniform(0, np.pi), np.random.uniform(0, 2*np.pi))\n",
    "        rotated_E = rotated_E + random_shift[None, :]\n",
    "        # all_feat = np.concatenate((rotated_E, features_rep), axis=1)\n",
    "        dataset_np.append((rotated_E, features_rep, class_label))\n",
    "    elif class_label == 5:\n",
    "        repeated_F = add_third_dimension_and_repeat(F, repeats_numbers)\n",
    "        rotated_F = generate_rotations_3d(repeated_F, np.random.uniform(0, 2*np.pi), np.random.uniform(0, np.pi), np.random.uniform(0, 2*np.pi))\n",
    "        rotated_F = rotated_F + random_shift[None, :]\n",
    "        # all_feat = np.concatenate((rotated_F, features_rep), axis=1)\n",
    "        dataset_np.append((rotated_F, features_rep, class_label))\n",
    "        "
   ]
  },
  {
   "cell_type": "code",
   "execution_count": 28,
   "metadata": {},
   "outputs": [
    {
     "name": "stderr",
     "output_type": "stream",
     "text": [
      "/usr/local/lib/python3.12/site-packages/tqdm/auto.py:21: TqdmWarning: IProgress not found. Please update jupyter and ipywidgets. See https://ipywidgets.readthedocs.io/en/stable/user_install.html\n",
      "  from .autonotebook import tqdm as notebook_tqdm\n"
     ]
    }
   ],
   "source": [
    "import torch\n",
    "import torch_geometric\n",
    "from torch_geometric.data import Data, InMemoryDataset"
   ]
  },
  {
   "cell_type": "code",
   "execution_count": 29,
   "metadata": {},
   "outputs": [],
   "source": [
    "class CustomGraphDataset(InMemoryDataset):\n",
    "    def __init__(self, root, data_list=None, transform=None, pre_transform=None):\n",
    "        self.data_list = data_list\n",
    "        super(CustomGraphDataset, self).__init__(root, transform, pre_transform)\n",
    "        \n",
    "        if data_list is not None:\n",
    "            self.data, self.slices = self.collate(self.data_list)\n",
    "        else:\n",
    "            self.data, self.slices = torch.load(self.processed_paths[0])\n",
    "            # data_list from data\n",
    "            self.data_list = [Data(x=data.x, edge_index=data.edge_index, edge_attr=data.edge_attr, y=data.y) for data in self.data]\n",
    "\n",
    "    @property\n",
    "    def raw_file_names(self):\n",
    "        return []\n",
    "\n",
    "    @property\n",
    "    def processed_file_names(self):\n",
    "        return ['data.pt']\n",
    "\n",
    "    def download(self):\n",
    "        pass\n",
    "\n",
    "    def process(self):\n",
    "        if self.data_list is not None:\n",
    "            self.data, self.slices = self.collate(self.data_list)\n",
    "            torch.save((self.data, self.slices), self.processed_paths[0])\n",
    "\n",
    "    def len(self):\n",
    "        return len(self.data_list)\n",
    "\n",
    "    def get(self, idx):\n",
    "        return self.data_list[idx]\n",
    "\n",
    "    def save(self):\n",
    "        torch.save((self.data, self.slices), self.processed_paths[0])"
   ]
  },
  {
   "cell_type": "code",
   "execution_count": 30,
   "metadata": {},
   "outputs": [],
   "source": [
    "data_list = []\n",
    "for coords, features, label in dataset_np:\n",
    "    x = torch.tensor(features, dtype=torch.float)#.view(-1, 1)  # Node features\n",
    "    r = torch.tensor(coords, dtype=torch.float)  # Node coordinates\n",
    "    y = torch.tensor([label], dtype=torch.long)  # Label\n",
    "    # edge_index = torch.tensor([[0, 1], [1, 0]], dtype=torch.long)  # Dummy edge_index for example\n",
    "    \n",
    "    data = Data(x=x, r = r, y=y)\n",
    "    data_list.append(data)\n"
   ]
  },
  {
   "cell_type": "code",
   "execution_count": 31,
   "metadata": {},
   "outputs": [],
   "source": [
    "dataset = CustomGraphDataset(root = '/Users/zhemd/PointConvolution/data/toy_dataset', data_list = data_list)"
   ]
  },
  {
   "cell_type": "code",
   "execution_count": 32,
   "metadata": {},
   "outputs": [
    {
     "name": "stderr",
     "output_type": "stream",
     "text": [
      "/usr/local/lib/python3.12/site-packages/torch_geometric/data/in_memory_dataset.py:300: UserWarning: It is not recommended to directly access the internal storage format `data` of an 'InMemoryDataset'. If you are absolutely certain what you are doing, access the internal storage via `InMemoryDataset._data` instead to suppress this warning. Alternatively, you can access stacked individual attributes of every graph via `dataset.{attr_name}`.\n",
      "  warnings.warn(msg)\n"
     ]
    }
   ],
   "source": [
    "dataset.save()"
   ]
  },
  {
   "cell_type": "code",
   "execution_count": 33,
   "metadata": {},
   "outputs": [],
   "source": [
    "from torch_geometric.loader import DataLoader"
   ]
  },
  {
   "cell_type": "code",
   "execution_count": 34,
   "metadata": {},
   "outputs": [],
   "source": [
    "# dataloader = DataLoader(dataset, batch_size=16, shuffle=True)"
   ]
  },
  {
   "cell_type": "code",
   "execution_count": 35,
   "metadata": {},
   "outputs": [],
   "source": [
    "dataloader = DataLoader(dataset, batch_size=16, shuffle=True)"
   ]
  },
  {
   "cell_type": "code",
   "execution_count": 36,
   "metadata": {},
   "outputs": [
    {
     "name": "stdout",
     "output_type": "stream",
     "text": [
      "DataBatch(x=[180, 5], y=[16], r=[180, 3], batch=[180], ptr=[17])\n",
      "DataBatch(x=[180, 5], y=[16], r=[180, 3], batch=[180], ptr=[17])\n",
      "DataBatch(x=[205, 5], y=[16], r=[205, 3], batch=[205], ptr=[17])\n",
      "DataBatch(x=[170, 5], y=[16], r=[170, 3], batch=[170], ptr=[17])\n",
      "DataBatch(x=[205, 5], y=[16], r=[205, 3], batch=[205], ptr=[17])\n",
      "DataBatch(x=[205, 5], y=[16], r=[205, 3], batch=[205], ptr=[17])\n",
      "DataBatch(x=[205, 5], y=[16], r=[205, 3], batch=[205], ptr=[17])\n",
      "DataBatch(x=[210, 5], y=[16], r=[210, 3], batch=[210], ptr=[17])\n",
      "DataBatch(x=[230, 5], y=[16], r=[230, 3], batch=[230], ptr=[17])\n",
      "DataBatch(x=[240, 5], y=[16], r=[240, 3], batch=[240], ptr=[17])\n",
      "DataBatch(x=[215, 5], y=[16], r=[215, 3], batch=[215], ptr=[17])\n",
      "DataBatch(x=[215, 5], y=[16], r=[215, 3], batch=[215], ptr=[17])\n",
      "DataBatch(x=[215, 5], y=[16], r=[215, 3], batch=[215], ptr=[17])\n",
      "DataBatch(x=[210, 5], y=[16], r=[210, 3], batch=[210], ptr=[17])\n",
      "DataBatch(x=[210, 5], y=[16], r=[210, 3], batch=[210], ptr=[17])\n",
      "DataBatch(x=[185, 5], y=[16], r=[185, 3], batch=[185], ptr=[17])\n",
      "DataBatch(x=[175, 5], y=[16], r=[175, 3], batch=[175], ptr=[17])\n",
      "DataBatch(x=[240, 5], y=[16], r=[240, 3], batch=[240], ptr=[17])\n",
      "DataBatch(x=[170, 5], y=[16], r=[170, 3], batch=[170], ptr=[17])\n",
      "DataBatch(x=[205, 5], y=[16], r=[205, 3], batch=[205], ptr=[17])\n",
      "DataBatch(x=[190, 5], y=[16], r=[190, 3], batch=[190], ptr=[17])\n",
      "DataBatch(x=[200, 5], y=[16], r=[200, 3], batch=[200], ptr=[17])\n",
      "DataBatch(x=[220, 5], y=[16], r=[220, 3], batch=[220], ptr=[17])\n",
      "DataBatch(x=[200, 5], y=[16], r=[200, 3], batch=[200], ptr=[17])\n",
      "DataBatch(x=[185, 5], y=[16], r=[185, 3], batch=[185], ptr=[17])\n",
      "DataBatch(x=[175, 5], y=[16], r=[175, 3], batch=[175], ptr=[17])\n",
      "DataBatch(x=[155, 5], y=[16], r=[155, 3], batch=[155], ptr=[17])\n",
      "DataBatch(x=[190, 5], y=[16], r=[190, 3], batch=[190], ptr=[17])\n",
      "DataBatch(x=[250, 5], y=[16], r=[250, 3], batch=[250], ptr=[17])\n",
      "DataBatch(x=[175, 5], y=[16], r=[175, 3], batch=[175], ptr=[17])\n",
      "DataBatch(x=[205, 5], y=[16], r=[205, 3], batch=[205], ptr=[17])\n",
      "DataBatch(x=[195, 5], y=[16], r=[195, 3], batch=[195], ptr=[17])\n",
      "DataBatch(x=[185, 5], y=[16], r=[185, 3], batch=[185], ptr=[17])\n",
      "DataBatch(x=[240, 5], y=[16], r=[240, 3], batch=[240], ptr=[17])\n",
      "DataBatch(x=[240, 5], y=[16], r=[240, 3], batch=[240], ptr=[17])\n",
      "DataBatch(x=[200, 5], y=[16], r=[200, 3], batch=[200], ptr=[17])\n",
      "DataBatch(x=[195, 5], y=[16], r=[195, 3], batch=[195], ptr=[17])\n",
      "DataBatch(x=[225, 5], y=[16], r=[225, 3], batch=[225], ptr=[17])\n",
      "DataBatch(x=[215, 5], y=[16], r=[215, 3], batch=[215], ptr=[17])\n",
      "DataBatch(x=[210, 5], y=[16], r=[210, 3], batch=[210], ptr=[17])\n",
      "DataBatch(x=[255, 5], y=[16], r=[255, 3], batch=[255], ptr=[17])\n",
      "DataBatch(x=[225, 5], y=[16], r=[225, 3], batch=[225], ptr=[17])\n",
      "DataBatch(x=[175, 5], y=[16], r=[175, 3], batch=[175], ptr=[17])\n",
      "DataBatch(x=[210, 5], y=[16], r=[210, 3], batch=[210], ptr=[17])\n",
      "DataBatch(x=[225, 5], y=[16], r=[225, 3], batch=[225], ptr=[17])\n",
      "DataBatch(x=[210, 5], y=[16], r=[210, 3], batch=[210], ptr=[17])\n",
      "DataBatch(x=[220, 5], y=[16], r=[220, 3], batch=[220], ptr=[17])\n",
      "DataBatch(x=[210, 5], y=[16], r=[210, 3], batch=[210], ptr=[17])\n",
      "DataBatch(x=[225, 5], y=[16], r=[225, 3], batch=[225], ptr=[17])\n",
      "DataBatch(x=[255, 5], y=[16], r=[255, 3], batch=[255], ptr=[17])\n",
      "DataBatch(x=[195, 5], y=[16], r=[195, 3], batch=[195], ptr=[17])\n",
      "DataBatch(x=[180, 5], y=[16], r=[180, 3], batch=[180], ptr=[17])\n",
      "DataBatch(x=[170, 5], y=[16], r=[170, 3], batch=[170], ptr=[17])\n",
      "DataBatch(x=[160, 5], y=[16], r=[160, 3], batch=[160], ptr=[17])\n",
      "DataBatch(x=[220, 5], y=[16], r=[220, 3], batch=[220], ptr=[17])\n",
      "DataBatch(x=[210, 5], y=[16], r=[210, 3], batch=[210], ptr=[17])\n",
      "DataBatch(x=[200, 5], y=[16], r=[200, 3], batch=[200], ptr=[17])\n",
      "DataBatch(x=[220, 5], y=[16], r=[220, 3], batch=[220], ptr=[17])\n",
      "DataBatch(x=[210, 5], y=[16], r=[210, 3], batch=[210], ptr=[17])\n",
      "DataBatch(x=[200, 5], y=[16], r=[200, 3], batch=[200], ptr=[17])\n",
      "DataBatch(x=[220, 5], y=[16], r=[220, 3], batch=[220], ptr=[17])\n",
      "DataBatch(x=[210, 5], y=[16], r=[210, 3], batch=[210], ptr=[17])\n",
      "DataBatch(x=[185, 5], y=[16], r=[185, 3], batch=[185], ptr=[17])\n",
      "DataBatch(x=[200, 5], y=[16], r=[200, 3], batch=[200], ptr=[17])\n",
      "DataBatch(x=[195, 5], y=[16], r=[195, 3], batch=[195], ptr=[17])\n",
      "DataBatch(x=[190, 5], y=[16], r=[190, 3], batch=[190], ptr=[17])\n",
      "DataBatch(x=[165, 5], y=[16], r=[165, 3], batch=[165], ptr=[17])\n",
      "DataBatch(x=[195, 5], y=[16], r=[195, 3], batch=[195], ptr=[17])\n",
      "DataBatch(x=[200, 5], y=[16], r=[200, 3], batch=[200], ptr=[17])\n",
      "DataBatch(x=[175, 5], y=[16], r=[175, 3], batch=[175], ptr=[17])\n",
      "DataBatch(x=[215, 5], y=[16], r=[215, 3], batch=[215], ptr=[17])\n",
      "DataBatch(x=[215, 5], y=[16], r=[215, 3], batch=[215], ptr=[17])\n",
      "DataBatch(x=[260, 5], y=[16], r=[260, 3], batch=[260], ptr=[17])\n",
      "DataBatch(x=[215, 5], y=[16], r=[215, 3], batch=[215], ptr=[17])\n",
      "DataBatch(x=[195, 5], y=[16], r=[195, 3], batch=[195], ptr=[17])\n",
      "DataBatch(x=[235, 5], y=[16], r=[235, 3], batch=[235], ptr=[17])\n",
      "DataBatch(x=[210, 5], y=[16], r=[210, 3], batch=[210], ptr=[17])\n",
      "DataBatch(x=[215, 5], y=[16], r=[215, 3], batch=[215], ptr=[17])\n",
      "DataBatch(x=[180, 5], y=[16], r=[180, 3], batch=[180], ptr=[17])\n",
      "DataBatch(x=[190, 5], y=[16], r=[190, 3], batch=[190], ptr=[17])\n",
      "DataBatch(x=[195, 5], y=[16], r=[195, 3], batch=[195], ptr=[17])\n",
      "DataBatch(x=[185, 5], y=[16], r=[185, 3], batch=[185], ptr=[17])\n",
      "DataBatch(x=[170, 5], y=[16], r=[170, 3], batch=[170], ptr=[17])\n",
      "DataBatch(x=[215, 5], y=[16], r=[215, 3], batch=[215], ptr=[17])\n",
      "DataBatch(x=[205, 5], y=[16], r=[205, 3], batch=[205], ptr=[17])\n",
      "DataBatch(x=[215, 5], y=[16], r=[215, 3], batch=[215], ptr=[17])\n",
      "DataBatch(x=[225, 5], y=[16], r=[225, 3], batch=[225], ptr=[17])\n",
      "DataBatch(x=[205, 5], y=[16], r=[205, 3], batch=[205], ptr=[17])\n",
      "DataBatch(x=[185, 5], y=[16], r=[185, 3], batch=[185], ptr=[17])\n",
      "DataBatch(x=[190, 5], y=[16], r=[190, 3], batch=[190], ptr=[17])\n",
      "DataBatch(x=[205, 5], y=[16], r=[205, 3], batch=[205], ptr=[17])\n",
      "DataBatch(x=[185, 5], y=[16], r=[185, 3], batch=[185], ptr=[17])\n",
      "DataBatch(x=[205, 5], y=[16], r=[205, 3], batch=[205], ptr=[17])\n",
      "DataBatch(x=[175, 5], y=[16], r=[175, 3], batch=[175], ptr=[17])\n",
      "DataBatch(x=[185, 5], y=[16], r=[185, 3], batch=[185], ptr=[17])\n",
      "DataBatch(x=[210, 5], y=[16], r=[210, 3], batch=[210], ptr=[17])\n",
      "DataBatch(x=[205, 5], y=[16], r=[205, 3], batch=[205], ptr=[17])\n",
      "DataBatch(x=[140, 5], y=[16], r=[140, 3], batch=[140], ptr=[17])\n",
      "DataBatch(x=[180, 5], y=[16], r=[180, 3], batch=[180], ptr=[17])\n",
      "DataBatch(x=[235, 5], y=[16], r=[235, 3], batch=[235], ptr=[17])\n",
      "DataBatch(x=[180, 5], y=[16], r=[180, 3], batch=[180], ptr=[17])\n",
      "DataBatch(x=[220, 5], y=[16], r=[220, 3], batch=[220], ptr=[17])\n",
      "DataBatch(x=[200, 5], y=[16], r=[200, 3], batch=[200], ptr=[17])\n",
      "DataBatch(x=[135, 5], y=[16], r=[135, 3], batch=[135], ptr=[17])\n",
      "DataBatch(x=[200, 5], y=[16], r=[200, 3], batch=[200], ptr=[17])\n",
      "DataBatch(x=[200, 5], y=[16], r=[200, 3], batch=[200], ptr=[17])\n",
      "DataBatch(x=[195, 5], y=[16], r=[195, 3], batch=[195], ptr=[17])\n",
      "DataBatch(x=[205, 5], y=[16], r=[205, 3], batch=[205], ptr=[17])\n",
      "DataBatch(x=[190, 5], y=[16], r=[190, 3], batch=[190], ptr=[17])\n",
      "DataBatch(x=[205, 5], y=[16], r=[205, 3], batch=[205], ptr=[17])\n",
      "DataBatch(x=[180, 5], y=[16], r=[180, 3], batch=[180], ptr=[17])\n",
      "DataBatch(x=[195, 5], y=[16], r=[195, 3], batch=[195], ptr=[17])\n",
      "DataBatch(x=[210, 5], y=[16], r=[210, 3], batch=[210], ptr=[17])\n",
      "DataBatch(x=[190, 5], y=[16], r=[190, 3], batch=[190], ptr=[17])\n",
      "DataBatch(x=[190, 5], y=[16], r=[190, 3], batch=[190], ptr=[17])\n",
      "DataBatch(x=[190, 5], y=[16], r=[190, 3], batch=[190], ptr=[17])\n",
      "DataBatch(x=[215, 5], y=[16], r=[215, 3], batch=[215], ptr=[17])\n",
      "DataBatch(x=[225, 5], y=[16], r=[225, 3], batch=[225], ptr=[17])\n",
      "DataBatch(x=[210, 5], y=[16], r=[210, 3], batch=[210], ptr=[17])\n",
      "DataBatch(x=[165, 5], y=[16], r=[165, 3], batch=[165], ptr=[17])\n",
      "DataBatch(x=[185, 5], y=[16], r=[185, 3], batch=[185], ptr=[17])\n",
      "DataBatch(x=[220, 5], y=[16], r=[220, 3], batch=[220], ptr=[17])\n",
      "DataBatch(x=[225, 5], y=[16], r=[225, 3], batch=[225], ptr=[17])\n",
      "DataBatch(x=[220, 5], y=[16], r=[220, 3], batch=[220], ptr=[17])\n",
      "DataBatch(x=[165, 5], y=[16], r=[165, 3], batch=[165], ptr=[17])\n",
      "DataBatch(x=[235, 5], y=[16], r=[235, 3], batch=[235], ptr=[17])\n",
      "DataBatch(x=[175, 5], y=[16], r=[175, 3], batch=[175], ptr=[17])\n",
      "DataBatch(x=[215, 5], y=[16], r=[215, 3], batch=[215], ptr=[17])\n",
      "DataBatch(x=[210, 5], y=[16], r=[210, 3], batch=[210], ptr=[17])\n",
      "DataBatch(x=[175, 5], y=[16], r=[175, 3], batch=[175], ptr=[17])\n",
      "DataBatch(x=[195, 5], y=[16], r=[195, 3], batch=[195], ptr=[17])\n",
      "DataBatch(x=[230, 5], y=[16], r=[230, 3], batch=[230], ptr=[17])\n",
      "DataBatch(x=[205, 5], y=[16], r=[205, 3], batch=[205], ptr=[17])\n",
      "DataBatch(x=[215, 5], y=[16], r=[215, 3], batch=[215], ptr=[17])\n",
      "DataBatch(x=[175, 5], y=[16], r=[175, 3], batch=[175], ptr=[17])\n",
      "DataBatch(x=[170, 5], y=[16], r=[170, 3], batch=[170], ptr=[17])\n",
      "DataBatch(x=[215, 5], y=[16], r=[215, 3], batch=[215], ptr=[17])\n",
      "DataBatch(x=[235, 5], y=[16], r=[235, 3], batch=[235], ptr=[17])\n",
      "DataBatch(x=[225, 5], y=[16], r=[225, 3], batch=[225], ptr=[17])\n",
      "DataBatch(x=[215, 5], y=[16], r=[215, 3], batch=[215], ptr=[17])\n",
      "DataBatch(x=[195, 5], y=[16], r=[195, 3], batch=[195], ptr=[17])\n",
      "DataBatch(x=[190, 5], y=[16], r=[190, 3], batch=[190], ptr=[17])\n",
      "DataBatch(x=[180, 5], y=[16], r=[180, 3], batch=[180], ptr=[17])\n",
      "DataBatch(x=[240, 5], y=[16], r=[240, 3], batch=[240], ptr=[17])\n",
      "DataBatch(x=[165, 5], y=[16], r=[165, 3], batch=[165], ptr=[17])\n",
      "DataBatch(x=[205, 5], y=[16], r=[205, 3], batch=[205], ptr=[17])\n",
      "DataBatch(x=[180, 5], y=[16], r=[180, 3], batch=[180], ptr=[17])\n",
      "DataBatch(x=[180, 5], y=[16], r=[180, 3], batch=[180], ptr=[17])\n",
      "DataBatch(x=[245, 5], y=[16], r=[245, 3], batch=[245], ptr=[17])\n",
      "DataBatch(x=[195, 5], y=[16], r=[195, 3], batch=[195], ptr=[17])\n",
      "DataBatch(x=[225, 5], y=[16], r=[225, 3], batch=[225], ptr=[17])\n",
      "DataBatch(x=[225, 5], y=[16], r=[225, 3], batch=[225], ptr=[17])\n",
      "DataBatch(x=[210, 5], y=[16], r=[210, 3], batch=[210], ptr=[17])\n",
      "DataBatch(x=[220, 5], y=[16], r=[220, 3], batch=[220], ptr=[17])\n",
      "DataBatch(x=[210, 5], y=[16], r=[210, 3], batch=[210], ptr=[17])\n",
      "DataBatch(x=[200, 5], y=[16], r=[200, 3], batch=[200], ptr=[17])\n",
      "DataBatch(x=[190, 5], y=[16], r=[190, 3], batch=[190], ptr=[17])\n",
      "DataBatch(x=[165, 5], y=[16], r=[165, 3], batch=[165], ptr=[17])\n",
      "DataBatch(x=[205, 5], y=[16], r=[205, 3], batch=[205], ptr=[17])\n",
      "DataBatch(x=[215, 5], y=[16], r=[215, 3], batch=[215], ptr=[17])\n",
      "DataBatch(x=[190, 5], y=[16], r=[190, 3], batch=[190], ptr=[17])\n",
      "DataBatch(x=[175, 5], y=[16], r=[175, 3], batch=[175], ptr=[17])\n",
      "DataBatch(x=[210, 5], y=[16], r=[210, 3], batch=[210], ptr=[17])\n",
      "DataBatch(x=[200, 5], y=[16], r=[200, 3], batch=[200], ptr=[17])\n",
      "DataBatch(x=[240, 5], y=[16], r=[240, 3], batch=[240], ptr=[17])\n",
      "DataBatch(x=[195, 5], y=[16], r=[195, 3], batch=[195], ptr=[17])\n",
      "DataBatch(x=[210, 5], y=[16], r=[210, 3], batch=[210], ptr=[17])\n",
      "DataBatch(x=[210, 5], y=[16], r=[210, 3], batch=[210], ptr=[17])\n",
      "DataBatch(x=[180, 5], y=[16], r=[180, 3], batch=[180], ptr=[17])\n",
      "DataBatch(x=[200, 5], y=[16], r=[200, 3], batch=[200], ptr=[17])\n",
      "DataBatch(x=[175, 5], y=[16], r=[175, 3], batch=[175], ptr=[17])\n",
      "DataBatch(x=[220, 5], y=[16], r=[220, 3], batch=[220], ptr=[17])\n",
      "DataBatch(x=[185, 5], y=[16], r=[185, 3], batch=[185], ptr=[17])\n",
      "DataBatch(x=[220, 5], y=[16], r=[220, 3], batch=[220], ptr=[17])\n",
      "DataBatch(x=[240, 5], y=[16], r=[240, 3], batch=[240], ptr=[17])\n",
      "DataBatch(x=[170, 5], y=[16], r=[170, 3], batch=[170], ptr=[17])\n",
      "DataBatch(x=[165, 5], y=[16], r=[165, 3], batch=[165], ptr=[17])\n",
      "DataBatch(x=[205, 5], y=[16], r=[205, 3], batch=[205], ptr=[17])\n",
      "DataBatch(x=[205, 5], y=[16], r=[205, 3], batch=[205], ptr=[17])\n",
      "DataBatch(x=[180, 5], y=[16], r=[180, 3], batch=[180], ptr=[17])\n",
      "DataBatch(x=[205, 5], y=[16], r=[205, 3], batch=[205], ptr=[17])\n",
      "DataBatch(x=[170, 5], y=[16], r=[170, 3], batch=[170], ptr=[17])\n",
      "DataBatch(x=[220, 5], y=[16], r=[220, 3], batch=[220], ptr=[17])\n",
      "DataBatch(x=[225, 5], y=[16], r=[225, 3], batch=[225], ptr=[17])\n",
      "DataBatch(x=[215, 5], y=[16], r=[215, 3], batch=[215], ptr=[17])\n",
      "DataBatch(x=[210, 5], y=[16], r=[210, 3], batch=[210], ptr=[17])\n",
      "DataBatch(x=[175, 5], y=[16], r=[175, 3], batch=[175], ptr=[17])\n",
      "DataBatch(x=[150, 5], y=[16], r=[150, 3], batch=[150], ptr=[17])\n",
      "DataBatch(x=[210, 5], y=[16], r=[210, 3], batch=[210], ptr=[17])\n",
      "DataBatch(x=[235, 5], y=[16], r=[235, 3], batch=[235], ptr=[17])\n",
      "DataBatch(x=[200, 5], y=[16], r=[200, 3], batch=[200], ptr=[17])\n",
      "DataBatch(x=[210, 5], y=[16], r=[210, 3], batch=[210], ptr=[17])\n",
      "DataBatch(x=[160, 5], y=[16], r=[160, 3], batch=[160], ptr=[17])\n",
      "DataBatch(x=[210, 5], y=[16], r=[210, 3], batch=[210], ptr=[17])\n",
      "DataBatch(x=[210, 5], y=[16], r=[210, 3], batch=[210], ptr=[17])\n",
      "DataBatch(x=[230, 5], y=[16], r=[230, 3], batch=[230], ptr=[17])\n",
      "DataBatch(x=[175, 5], y=[16], r=[175, 3], batch=[175], ptr=[17])\n",
      "DataBatch(x=[235, 5], y=[16], r=[235, 3], batch=[235], ptr=[17])\n",
      "DataBatch(x=[130, 5], y=[16], r=[130, 3], batch=[130], ptr=[17])\n",
      "DataBatch(x=[225, 5], y=[16], r=[225, 3], batch=[225], ptr=[17])\n",
      "DataBatch(x=[195, 5], y=[16], r=[195, 3], batch=[195], ptr=[17])\n",
      "DataBatch(x=[250, 5], y=[16], r=[250, 3], batch=[250], ptr=[17])\n",
      "DataBatch(x=[220, 5], y=[16], r=[220, 3], batch=[220], ptr=[17])\n",
      "DataBatch(x=[160, 5], y=[16], r=[160, 3], batch=[160], ptr=[17])\n",
      "DataBatch(x=[225, 5], y=[16], r=[225, 3], batch=[225], ptr=[17])\n",
      "DataBatch(x=[220, 5], y=[16], r=[220, 3], batch=[220], ptr=[17])\n",
      "DataBatch(x=[190, 5], y=[16], r=[190, 3], batch=[190], ptr=[17])\n",
      "DataBatch(x=[160, 5], y=[16], r=[160, 3], batch=[160], ptr=[17])\n",
      "DataBatch(x=[190, 5], y=[16], r=[190, 3], batch=[190], ptr=[17])\n",
      "DataBatch(x=[200, 5], y=[16], r=[200, 3], batch=[200], ptr=[17])\n",
      "DataBatch(x=[175, 5], y=[16], r=[175, 3], batch=[175], ptr=[17])\n",
      "DataBatch(x=[205, 5], y=[16], r=[205, 3], batch=[205], ptr=[17])\n",
      "DataBatch(x=[215, 5], y=[16], r=[215, 3], batch=[215], ptr=[17])\n",
      "DataBatch(x=[215, 5], y=[16], r=[215, 3], batch=[215], ptr=[17])\n",
      "DataBatch(x=[205, 5], y=[16], r=[205, 3], batch=[205], ptr=[17])\n",
      "DataBatch(x=[195, 5], y=[16], r=[195, 3], batch=[195], ptr=[17])\n",
      "DataBatch(x=[180, 5], y=[16], r=[180, 3], batch=[180], ptr=[17])\n",
      "DataBatch(x=[170, 5], y=[16], r=[170, 3], batch=[170], ptr=[17])\n",
      "DataBatch(x=[150, 5], y=[16], r=[150, 3], batch=[150], ptr=[17])\n",
      "DataBatch(x=[195, 5], y=[16], r=[195, 3], batch=[195], ptr=[17])\n",
      "DataBatch(x=[200, 5], y=[16], r=[200, 3], batch=[200], ptr=[17])\n",
      "DataBatch(x=[240, 5], y=[16], r=[240, 3], batch=[240], ptr=[17])\n",
      "DataBatch(x=[200, 5], y=[16], r=[200, 3], batch=[200], ptr=[17])\n",
      "DataBatch(x=[170, 5], y=[16], r=[170, 3], batch=[170], ptr=[17])\n",
      "DataBatch(x=[215, 5], y=[16], r=[215, 3], batch=[215], ptr=[17])\n",
      "DataBatch(x=[180, 5], y=[16], r=[180, 3], batch=[180], ptr=[17])\n",
      "DataBatch(x=[195, 5], y=[16], r=[195, 3], batch=[195], ptr=[17])\n",
      "DataBatch(x=[180, 5], y=[16], r=[180, 3], batch=[180], ptr=[17])\n",
      "DataBatch(x=[195, 5], y=[16], r=[195, 3], batch=[195], ptr=[17])\n",
      "DataBatch(x=[190, 5], y=[16], r=[190, 3], batch=[190], ptr=[17])\n",
      "DataBatch(x=[250, 5], y=[16], r=[250, 3], batch=[250], ptr=[17])\n",
      "DataBatch(x=[210, 5], y=[16], r=[210, 3], batch=[210], ptr=[17])\n",
      "DataBatch(x=[200, 5], y=[16], r=[200, 3], batch=[200], ptr=[17])\n",
      "DataBatch(x=[230, 5], y=[16], r=[230, 3], batch=[230], ptr=[17])\n",
      "DataBatch(x=[190, 5], y=[16], r=[190, 3], batch=[190], ptr=[17])\n",
      "DataBatch(x=[215, 5], y=[16], r=[215, 3], batch=[215], ptr=[17])\n",
      "DataBatch(x=[170, 5], y=[16], r=[170, 3], batch=[170], ptr=[17])\n",
      "DataBatch(x=[210, 5], y=[16], r=[210, 3], batch=[210], ptr=[17])\n",
      "DataBatch(x=[210, 5], y=[16], r=[210, 3], batch=[210], ptr=[17])\n",
      "DataBatch(x=[195, 5], y=[16], r=[195, 3], batch=[195], ptr=[17])\n",
      "DataBatch(x=[190, 5], y=[16], r=[190, 3], batch=[190], ptr=[17])\n",
      "DataBatch(x=[170, 5], y=[16], r=[170, 3], batch=[170], ptr=[17])\n",
      "DataBatch(x=[210, 5], y=[16], r=[210, 3], batch=[210], ptr=[17])\n",
      "DataBatch(x=[180, 5], y=[16], r=[180, 3], batch=[180], ptr=[17])\n",
      "DataBatch(x=[240, 5], y=[16], r=[240, 3], batch=[240], ptr=[17])\n",
      "DataBatch(x=[180, 5], y=[16], r=[180, 3], batch=[180], ptr=[17])\n",
      "DataBatch(x=[230, 5], y=[16], r=[230, 3], batch=[230], ptr=[17])\n",
      "DataBatch(x=[210, 5], y=[16], r=[210, 3], batch=[210], ptr=[17])\n",
      "DataBatch(x=[210, 5], y=[16], r=[210, 3], batch=[210], ptr=[17])\n",
      "DataBatch(x=[225, 5], y=[16], r=[225, 3], batch=[225], ptr=[17])\n",
      "DataBatch(x=[205, 5], y=[16], r=[205, 3], batch=[205], ptr=[17])\n",
      "DataBatch(x=[140, 5], y=[16], r=[140, 3], batch=[140], ptr=[17])\n",
      "DataBatch(x=[210, 5], y=[16], r=[210, 3], batch=[210], ptr=[17])\n",
      "DataBatch(x=[185, 5], y=[16], r=[185, 3], batch=[185], ptr=[17])\n",
      "DataBatch(x=[240, 5], y=[16], r=[240, 3], batch=[240], ptr=[17])\n",
      "DataBatch(x=[220, 5], y=[16], r=[220, 3], batch=[220], ptr=[17])\n",
      "DataBatch(x=[175, 5], y=[16], r=[175, 3], batch=[175], ptr=[17])\n",
      "DataBatch(x=[180, 5], y=[16], r=[180, 3], batch=[180], ptr=[17])\n",
      "DataBatch(x=[200, 5], y=[16], r=[200, 3], batch=[200], ptr=[17])\n",
      "DataBatch(x=[205, 5], y=[16], r=[205, 3], batch=[205], ptr=[17])\n",
      "DataBatch(x=[175, 5], y=[16], r=[175, 3], batch=[175], ptr=[17])\n",
      "DataBatch(x=[210, 5], y=[16], r=[210, 3], batch=[210], ptr=[17])\n",
      "DataBatch(x=[255, 5], y=[16], r=[255, 3], batch=[255], ptr=[17])\n",
      "DataBatch(x=[165, 5], y=[16], r=[165, 3], batch=[165], ptr=[17])\n",
      "DataBatch(x=[185, 5], y=[16], r=[185, 3], batch=[185], ptr=[17])\n",
      "DataBatch(x=[190, 5], y=[16], r=[190, 3], batch=[190], ptr=[17])\n",
      "DataBatch(x=[175, 5], y=[16], r=[175, 3], batch=[175], ptr=[17])\n",
      "DataBatch(x=[210, 5], y=[16], r=[210, 3], batch=[210], ptr=[17])\n",
      "DataBatch(x=[200, 5], y=[16], r=[200, 3], batch=[200], ptr=[17])\n",
      "DataBatch(x=[195, 5], y=[16], r=[195, 3], batch=[195], ptr=[17])\n",
      "DataBatch(x=[190, 5], y=[16], r=[190, 3], batch=[190], ptr=[17])\n",
      "DataBatch(x=[200, 5], y=[16], r=[200, 3], batch=[200], ptr=[17])\n",
      "DataBatch(x=[170, 5], y=[16], r=[170, 3], batch=[170], ptr=[17])\n",
      "DataBatch(x=[210, 5], y=[16], r=[210, 3], batch=[210], ptr=[17])\n",
      "DataBatch(x=[210, 5], y=[16], r=[210, 3], batch=[210], ptr=[17])\n",
      "DataBatch(x=[165, 5], y=[16], r=[165, 3], batch=[165], ptr=[17])\n",
      "DataBatch(x=[215, 5], y=[16], r=[215, 3], batch=[215], ptr=[17])\n",
      "DataBatch(x=[245, 5], y=[16], r=[245, 3], batch=[245], ptr=[17])\n",
      "DataBatch(x=[140, 5], y=[16], r=[140, 3], batch=[140], ptr=[17])\n",
      "DataBatch(x=[190, 5], y=[16], r=[190, 3], batch=[190], ptr=[17])\n",
      "DataBatch(x=[220, 5], y=[16], r=[220, 3], batch=[220], ptr=[17])\n",
      "DataBatch(x=[155, 5], y=[16], r=[155, 3], batch=[155], ptr=[17])\n",
      "DataBatch(x=[220, 5], y=[16], r=[220, 3], batch=[220], ptr=[17])\n",
      "DataBatch(x=[170, 5], y=[16], r=[170, 3], batch=[170], ptr=[17])\n",
      "DataBatch(x=[190, 5], y=[16], r=[190, 3], batch=[190], ptr=[17])\n",
      "DataBatch(x=[170, 5], y=[16], r=[170, 3], batch=[170], ptr=[17])\n",
      "DataBatch(x=[225, 5], y=[16], r=[225, 3], batch=[225], ptr=[17])\n",
      "DataBatch(x=[165, 5], y=[16], r=[165, 3], batch=[165], ptr=[17])\n",
      "DataBatch(x=[240, 5], y=[16], r=[240, 3], batch=[240], ptr=[17])\n",
      "DataBatch(x=[185, 5], y=[16], r=[185, 3], batch=[185], ptr=[17])\n",
      "DataBatch(x=[230, 5], y=[16], r=[230, 3], batch=[230], ptr=[17])\n",
      "DataBatch(x=[220, 5], y=[16], r=[220, 3], batch=[220], ptr=[17])\n",
      "DataBatch(x=[220, 5], y=[16], r=[220, 3], batch=[220], ptr=[17])\n",
      "DataBatch(x=[215, 5], y=[16], r=[215, 3], batch=[215], ptr=[17])\n",
      "DataBatch(x=[175, 5], y=[16], r=[175, 3], batch=[175], ptr=[17])\n",
      "DataBatch(x=[185, 5], y=[16], r=[185, 3], batch=[185], ptr=[17])\n",
      "DataBatch(x=[195, 5], y=[16], r=[195, 3], batch=[195], ptr=[17])\n",
      "DataBatch(x=[190, 5], y=[16], r=[190, 3], batch=[190], ptr=[17])\n",
      "DataBatch(x=[170, 5], y=[16], r=[170, 3], batch=[170], ptr=[17])\n",
      "DataBatch(x=[230, 5], y=[16], r=[230, 3], batch=[230], ptr=[17])\n",
      "DataBatch(x=[240, 5], y=[16], r=[240, 3], batch=[240], ptr=[17])\n",
      "DataBatch(x=[205, 5], y=[16], r=[205, 3], batch=[205], ptr=[17])\n",
      "DataBatch(x=[220, 5], y=[16], r=[220, 3], batch=[220], ptr=[17])\n",
      "DataBatch(x=[220, 5], y=[16], r=[220, 3], batch=[220], ptr=[17])\n",
      "DataBatch(x=[145, 5], y=[16], r=[145, 3], batch=[145], ptr=[17])\n",
      "DataBatch(x=[225, 5], y=[16], r=[225, 3], batch=[225], ptr=[17])\n",
      "DataBatch(x=[165, 5], y=[16], r=[165, 3], batch=[165], ptr=[17])\n",
      "DataBatch(x=[210, 5], y=[16], r=[210, 3], batch=[210], ptr=[17])\n",
      "DataBatch(x=[185, 5], y=[16], r=[185, 3], batch=[185], ptr=[17])\n",
      "DataBatch(x=[210, 5], y=[16], r=[210, 3], batch=[210], ptr=[17])\n",
      "DataBatch(x=[205, 5], y=[16], r=[205, 3], batch=[205], ptr=[17])\n",
      "DataBatch(x=[205, 5], y=[16], r=[205, 3], batch=[205], ptr=[17])\n",
      "DataBatch(x=[170, 5], y=[16], r=[170, 3], batch=[170], ptr=[17])\n",
      "DataBatch(x=[180, 5], y=[16], r=[180, 3], batch=[180], ptr=[17])\n",
      "DataBatch(x=[180, 5], y=[16], r=[180, 3], batch=[180], ptr=[17])\n",
      "DataBatch(x=[200, 5], y=[16], r=[200, 3], batch=[200], ptr=[17])\n",
      "DataBatch(x=[170, 5], y=[16], r=[170, 3], batch=[170], ptr=[17])\n",
      "DataBatch(x=[165, 5], y=[16], r=[165, 3], batch=[165], ptr=[17])\n",
      "DataBatch(x=[190, 5], y=[16], r=[190, 3], batch=[190], ptr=[17])\n",
      "DataBatch(x=[220, 5], y=[16], r=[220, 3], batch=[220], ptr=[17])\n",
      "DataBatch(x=[185, 5], y=[16], r=[185, 3], batch=[185], ptr=[17])\n",
      "DataBatch(x=[225, 5], y=[16], r=[225, 3], batch=[225], ptr=[17])\n",
      "DataBatch(x=[210, 5], y=[16], r=[210, 3], batch=[210], ptr=[17])\n",
      "DataBatch(x=[230, 5], y=[16], r=[230, 3], batch=[230], ptr=[17])\n",
      "DataBatch(x=[190, 5], y=[16], r=[190, 3], batch=[190], ptr=[17])\n",
      "DataBatch(x=[195, 5], y=[16], r=[195, 3], batch=[195], ptr=[17])\n",
      "DataBatch(x=[230, 5], y=[16], r=[230, 3], batch=[230], ptr=[17])\n",
      "DataBatch(x=[215, 5], y=[16], r=[215, 3], batch=[215], ptr=[17])\n",
      "DataBatch(x=[170, 5], y=[16], r=[170, 3], batch=[170], ptr=[17])\n",
      "DataBatch(x=[215, 5], y=[16], r=[215, 3], batch=[215], ptr=[17])\n",
      "DataBatch(x=[245, 5], y=[16], r=[245, 3], batch=[245], ptr=[17])\n",
      "DataBatch(x=[235, 5], y=[16], r=[235, 3], batch=[235], ptr=[17])\n",
      "DataBatch(x=[180, 5], y=[16], r=[180, 3], batch=[180], ptr=[17])\n",
      "DataBatch(x=[205, 5], y=[16], r=[205, 3], batch=[205], ptr=[17])\n",
      "DataBatch(x=[210, 5], y=[16], r=[210, 3], batch=[210], ptr=[17])\n",
      "DataBatch(x=[230, 5], y=[16], r=[230, 3], batch=[230], ptr=[17])\n",
      "DataBatch(x=[230, 5], y=[16], r=[230, 3], batch=[230], ptr=[17])\n",
      "DataBatch(x=[200, 5], y=[16], r=[200, 3], batch=[200], ptr=[17])\n",
      "DataBatch(x=[210, 5], y=[16], r=[210, 3], batch=[210], ptr=[17])\n",
      "DataBatch(x=[220, 5], y=[16], r=[220, 3], batch=[220], ptr=[17])\n",
      "DataBatch(x=[205, 5], y=[16], r=[205, 3], batch=[205], ptr=[17])\n",
      "DataBatch(x=[240, 5], y=[16], r=[240, 3], batch=[240], ptr=[17])\n",
      "DataBatch(x=[215, 5], y=[16], r=[215, 3], batch=[215], ptr=[17])\n",
      "DataBatch(x=[180, 5], y=[16], r=[180, 3], batch=[180], ptr=[17])\n",
      "DataBatch(x=[265, 5], y=[16], r=[265, 3], batch=[265], ptr=[17])\n",
      "DataBatch(x=[195, 5], y=[16], r=[195, 3], batch=[195], ptr=[17])\n",
      "DataBatch(x=[185, 5], y=[16], r=[185, 3], batch=[185], ptr=[17])\n",
      "DataBatch(x=[175, 5], y=[16], r=[175, 3], batch=[175], ptr=[17])\n",
      "DataBatch(x=[245, 5], y=[16], r=[245, 3], batch=[245], ptr=[17])\n",
      "DataBatch(x=[220, 5], y=[16], r=[220, 3], batch=[220], ptr=[17])\n",
      "DataBatch(x=[200, 5], y=[16], r=[200, 3], batch=[200], ptr=[17])\n",
      "DataBatch(x=[180, 5], y=[16], r=[180, 3], batch=[180], ptr=[17])\n",
      "DataBatch(x=[205, 5], y=[16], r=[205, 3], batch=[205], ptr=[17])\n",
      "DataBatch(x=[195, 5], y=[16], r=[195, 3], batch=[195], ptr=[17])\n",
      "DataBatch(x=[220, 5], y=[16], r=[220, 3], batch=[220], ptr=[17])\n",
      "DataBatch(x=[200, 5], y=[16], r=[200, 3], batch=[200], ptr=[17])\n",
      "DataBatch(x=[175, 5], y=[16], r=[175, 3], batch=[175], ptr=[17])\n",
      "DataBatch(x=[175, 5], y=[16], r=[175, 3], batch=[175], ptr=[17])\n",
      "DataBatch(x=[195, 5], y=[16], r=[195, 3], batch=[195], ptr=[17])\n",
      "DataBatch(x=[205, 5], y=[16], r=[205, 3], batch=[205], ptr=[17])\n",
      "DataBatch(x=[230, 5], y=[16], r=[230, 3], batch=[230], ptr=[17])\n",
      "DataBatch(x=[170, 5], y=[16], r=[170, 3], batch=[170], ptr=[17])\n",
      "DataBatch(x=[210, 5], y=[16], r=[210, 3], batch=[210], ptr=[17])\n",
      "DataBatch(x=[215, 5], y=[16], r=[215, 3], batch=[215], ptr=[17])\n",
      "DataBatch(x=[215, 5], y=[16], r=[215, 3], batch=[215], ptr=[17])\n",
      "DataBatch(x=[220, 5], y=[16], r=[220, 3], batch=[220], ptr=[17])\n",
      "DataBatch(x=[220, 5], y=[16], r=[220, 3], batch=[220], ptr=[17])\n",
      "DataBatch(x=[170, 5], y=[16], r=[170, 3], batch=[170], ptr=[17])\n",
      "DataBatch(x=[200, 5], y=[16], r=[200, 3], batch=[200], ptr=[17])\n",
      "DataBatch(x=[190, 5], y=[16], r=[190, 3], batch=[190], ptr=[17])\n",
      "DataBatch(x=[185, 5], y=[16], r=[185, 3], batch=[185], ptr=[17])\n",
      "DataBatch(x=[190, 5], y=[16], r=[190, 3], batch=[190], ptr=[17])\n",
      "DataBatch(x=[210, 5], y=[16], r=[210, 3], batch=[210], ptr=[17])\n",
      "DataBatch(x=[230, 5], y=[16], r=[230, 3], batch=[230], ptr=[17])\n",
      "DataBatch(x=[215, 5], y=[16], r=[215, 3], batch=[215], ptr=[17])\n"
     ]
    }
   ],
   "source": [
    "for batch in dataloader:\n",
    "    print(batch)"
   ]
  }
 ],
 "metadata": {
  "kernelspec": {
   "display_name": "Python 3",
   "language": "python",
   "name": "python3"
  },
  "language_info": {
   "codemirror_mode": {
    "name": "ipython",
    "version": 3
   },
   "file_extension": ".py",
   "mimetype": "text/x-python",
   "name": "python",
   "nbconvert_exporter": "python",
   "pygments_lexer": "ipython3",
   "version": "3.12.7"
  }
 },
 "nbformat": 4,
 "nbformat_minor": 2
}
